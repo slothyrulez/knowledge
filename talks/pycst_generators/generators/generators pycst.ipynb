{
 "cells": [
  {
   "cell_type": "markdown",
   "metadata": {},
   "source": [
    "# PYTHON GENERATORS"
   ]
  },
  {
   "cell_type": "markdown",
   "metadata": {},
   "source": [
    "## Basics:\n",
    "\n",
    "Common 'functions' or 'subroutines' return the control flow of the application to the point them are being called.\n"
   ]
  },
  {
   "cell_type": "code",
   "execution_count": 2,
   "metadata": {
    "collapsed": true
   },
   "outputs": [],
   "source": [
    "def common_function(n):\n",
    "    i = 0\n",
    "    while i < n:\n",
    "        return i"
   ]
  },
  {
   "cell_type": "code",
   "execution_count": 3,
   "metadata": {
    "collapsed": false
   },
   "outputs": [
    {
     "name": "stdout",
     "output_type": "stream",
     "text": [
      "0\n",
      "<type 'function'>\n",
      "0\n"
     ]
    }
   ],
   "source": [
    "c = common_function(8)\n",
    "print c\n",
    "cc = common_function\n",
    "print type(cc)\n",
    "print cc(8)"
   ]
  },
  {
   "cell_type": "markdown",
   "metadata": {},
   "source": [
    "If we call them again, everything starts from 'scratch'"
   ]
  },
  {
   "cell_type": "code",
   "execution_count": 3,
   "metadata": {
    "collapsed": false
   },
   "outputs": [
    {
     "name": "stdout",
     "output_type": "stream",
     "text": [
      "0\n"
     ]
    }
   ],
   "source": [
    "print cc(8)"
   ]
  },
  {
   "cell_type": "markdown",
   "metadata": {},
   "source": [
    "## PEP 255 : Simple generators (2001)\n",
    "\n",
    "Introduces basic syntax and 'yield' statement\n",
    "\n",
    "\n",
    "The idea:\n",
    "----------\n",
    "Provide a mechanishm to have a function that return a value mantaining the current local status of the function. "
   ]
  },
  {
   "cell_type": "code",
   "execution_count": 4,
   "metadata": {
    "collapsed": true
   },
   "outputs": [],
   "source": [
    "def gen(n):\n",
    "    i = 0\n",
    "    while i < n:\n",
    "        yield i\n",
    "        i+=1    "
   ]
  },
  {
   "cell_type": "code",
   "execution_count": 5,
   "metadata": {
    "collapsed": false
   },
   "outputs": [
    {
     "name": "stdout",
     "output_type": "stream",
     "text": [
      "<generator object gen at 0x7f4db82d4e60>\n"
     ]
    }
   ],
   "source": [
    "g = gen(8)\n",
    "print g"
   ]
  },
  {
   "cell_type": "markdown",
   "metadata": {},
   "source": [
    "Let's call it again"
   ]
  },
  {
   "cell_type": "code",
   "execution_count": 6,
   "metadata": {
    "collapsed": false
   },
   "outputs": [
    {
     "name": "stdout",
     "output_type": "stream",
     "text": [
      "0\n",
      "1\n",
      "2\n"
     ]
    }
   ],
   "source": [
    "print g.next()\n",
    "print g.next()\n",
    "print g.next()"
   ]
  },
  {
   "cell_type": "markdown",
   "metadata": {},
   "source": [
    "The local status of the generator is keept, and on the *next* call is resumed"
   ]
  },
  {
   "cell_type": "code",
   "execution_count": 7,
   "metadata": {
    "collapsed": false
   },
   "outputs": [
    {
     "name": "stdout",
     "output_type": "stream",
     "text": [
      "3\n",
      "4\n",
      "5\n"
     ]
    }
   ],
   "source": [
    "print g.next()\n",
    "print g.next()\n",
    "print g.next()"
   ]
  },
  {
   "cell_type": "markdown",
   "metadata": {},
   "source": [
    "One more time!"
   ]
  },
  {
   "cell_type": "code",
   "execution_count": 8,
   "metadata": {
    "collapsed": false,
    "scrolled": true
   },
   "outputs": [
    {
     "name": "stdout",
     "output_type": "stream",
     "text": [
      "6\n",
      "7\n"
     ]
    },
    {
     "ename": "StopIteration",
     "evalue": "",
     "output_type": "error",
     "traceback": [
      "\u001b[1;31m---------------------------------------------------------------------------\u001b[0m",
      "\u001b[1;31mStopIteration\u001b[0m                             Traceback (most recent call last)",
      "\u001b[1;32m<ipython-input-8-6600eb397485>\u001b[0m in \u001b[0;36m<module>\u001b[1;34m()\u001b[0m\n\u001b[0;32m      1\u001b[0m \u001b[1;32mprint\u001b[0m \u001b[0mg\u001b[0m\u001b[1;33m.\u001b[0m\u001b[0mnext\u001b[0m\u001b[1;33m(\u001b[0m\u001b[1;33m)\u001b[0m\u001b[1;33m\u001b[0m\u001b[0m\n\u001b[0;32m      2\u001b[0m \u001b[1;32mprint\u001b[0m \u001b[0mg\u001b[0m\u001b[1;33m.\u001b[0m\u001b[0mnext\u001b[0m\u001b[1;33m(\u001b[0m\u001b[1;33m)\u001b[0m\u001b[1;33m\u001b[0m\u001b[0m\n\u001b[1;32m----> 3\u001b[1;33m \u001b[1;32mprint\u001b[0m \u001b[0mg\u001b[0m\u001b[1;33m.\u001b[0m\u001b[0mnext\u001b[0m\u001b[1;33m(\u001b[0m\u001b[1;33m)\u001b[0m\u001b[1;33m\u001b[0m\u001b[0m\n\u001b[0m",
      "\u001b[1;31mStopIteration\u001b[0m: "
     ]
    }
   ],
   "source": [
    "print g.next()\n",
    "print g.next()\n",
    "print g.next()"
   ]
  },
  {
   "cell_type": "markdown",
   "metadata": {},
   "source": [
    "### OUCH!\n",
    "What is happening?, what are those weird 'next' and 'StopIteration'?\n",
    "A step by step example:"
   ]
  },
  {
   "cell_type": "code",
   "execution_count": 12,
   "metadata": {
    "collapsed": true
   },
   "outputs": [],
   "source": [
    "def simple():\n",
    "    print \"I'm simple :P\"\n",
    "    yield 1\n",
    "    yield 2\n",
    "    yield 3"
   ]
  },
  {
   "cell_type": "markdown",
   "metadata": {},
   "source": [
    "Behind the scenes, when the generator function is called no code is executed, that conforms with the iterator protocol.\n",
    "Is not until, each time the *next()* method of the generator is called, that the body of the function is executed, **until** a *yield* a *return* or *the end* of the body is found."
   ]
  },
  {
   "cell_type": "code",
   "execution_count": 13,
   "metadata": {
    "collapsed": true
   },
   "outputs": [],
   "source": [
    "s = simple()"
   ]
  },
  {
   "cell_type": "code",
   "execution_count": 14,
   "metadata": {
    "collapsed": false
   },
   "outputs": [
    {
     "data": {
      "text/plain": [
       "['__class__',\n",
       " '__delattr__',\n",
       " '__doc__',\n",
       " '__format__',\n",
       " '__getattribute__',\n",
       " '__hash__',\n",
       " '__init__',\n",
       " '__iter__',\n",
       " '__name__',\n",
       " '__new__',\n",
       " '__reduce__',\n",
       " '__reduce_ex__',\n",
       " '__repr__',\n",
       " '__setattr__',\n",
       " '__sizeof__',\n",
       " '__str__',\n",
       " '__subclasshook__',\n",
       " 'close',\n",
       " 'gi_code',\n",
       " 'gi_frame',\n",
       " 'gi_running',\n",
       " 'next',\n",
       " 'send',\n",
       " 'throw']"
      ]
     },
     "execution_count": 14,
     "metadata": {},
     "output_type": "execute_result"
    }
   ],
   "source": [
    "dir(simple())"
   ]
  },
  {
   "cell_type": "code",
   "execution_count": 15,
   "metadata": {
    "collapsed": false
   },
   "outputs": [
    {
     "name": "stdout",
     "output_type": "stream",
     "text": [
      "I'm simple :P\n",
      "1\n",
      "2\n",
      "3\n"
     ]
    }
   ],
   "source": [
    "# internal print is called\n",
    "# first yield returned\n",
    "print s.next()\n",
    "print next(s) ## Follows the iterator protocol\n",
    "print s.next()"
   ]
  },
  {
   "cell_type": "markdown",
   "metadata": {},
   "source": [
    "next(*iterator*[, default]) https://docs.python.org/2/library/functions.html#next"
   ]
  },
  {
   "cell_type": "markdown",
   "metadata": {},
   "source": [
    "What is going on here ?\n",
    "--------------------------\n",
    "As said, the generator is \"freezing\" is local state, that includes, local bindings, instruction pointer, internal stack, as the PEP sais:\n",
    "\n",
    "> enough information is saved so that the next time .next() is invoked, the function can\n",
    "> proceed exactly as if the yield statement were just another external call.\n"
   ]
  },
  {
   "cell_type": "code",
   "execution_count": 16,
   "metadata": {
    "collapsed": false
   },
   "outputs": [
    {
     "ename": "StopIteration",
     "evalue": "",
     "output_type": "error",
     "traceback": [
      "\u001b[1;31m---------------------------------------------------------------------------\u001b[0m",
      "\u001b[1;31mStopIteration\u001b[0m                             Traceback (most recent call last)",
      "\u001b[1;32m<ipython-input-16-e5550282cf92>\u001b[0m in \u001b[0;36m<module>\u001b[1;34m()\u001b[0m\n\u001b[1;32m----> 1\u001b[1;33m \u001b[1;32mprint\u001b[0m \u001b[0ms\u001b[0m\u001b[1;33m.\u001b[0m\u001b[0mnext\u001b[0m\u001b[1;33m(\u001b[0m\u001b[1;33m)\u001b[0m\u001b[1;33m\u001b[0m\u001b[0m\n\u001b[0m",
      "\u001b[1;31mStopIteration\u001b[0m: "
     ]
    }
   ],
   "source": [
    "print s.next()"
   ]
  },
  {
   "cell_type": "markdown",
   "metadata": {},
   "source": [
    "StopIteration\n",
    "---------------\n",
    "So each time we call the *next* method on the generator, it gives us the next element and if there are no more elements, it raises a StopIteration. Like the Iterator protocol\n",
    "\n",
    "Return\n",
    "-------\n",
    "A genrator can also have a return statement, that simply returns ('Hey!, i'm done') as any function but then a StopIteration is raised, indicating that the generator is exhausted.\n",
    "Note that return != raise StopIteration"
   ]
  },
  {
   "cell_type": "code",
   "execution_count": 14,
   "metadata": {
    "collapsed": false
   },
   "outputs": [
    {
     "name": "stdout",
     "output_type": "stream",
     "text": [
      "[42]\n"
     ]
    }
   ],
   "source": [
    "def gen_except():\n",
    "    try:\n",
    "        raise StopIteration\n",
    "    except:\n",
    "        yield 42\n",
    "\n",
    "# The StopIteration exception is being capturred by the except clause.\n",
    "print list(gen_except())"
   ]
  },
  {
   "cell_type": "markdown",
   "metadata": {},
   "source": [
    "Restrictions\n",
    "--------------\n",
    " - ~~A yield statement is not allowed in the try clause of a try/finally construct.\n",
    "    There's no guarantee the generator will ever be resumed, hence no guarantee that the finally\n",
    "    block will ever get executed~~. Addition to .close() method (PEP 343)\n",
    "\n",
    " - A generator cannot be resumed while it is actively running"
   ]
  },
  {
   "cell_type": "code",
   "execution_count": 18,
   "metadata": {
    "collapsed": false
   },
   "outputs": [
    {
     "name": "stdout",
     "output_type": "stream",
     "text": [
      "Leñe!\n"
     ]
    },
    {
     "ename": "ZeroDivisionError",
     "evalue": "integer division or modulo by zero",
     "output_type": "error",
     "traceback": [
      "\u001b[1;31m---------------------------------------------------------------------------\u001b[0m",
      "\u001b[1;31mZeroDivisionError\u001b[0m                         Traceback (most recent call last)",
      "\u001b[1;32m<ipython-input-18-f90a94475a73>\u001b[0m in \u001b[0;36m<module>\u001b[1;34m()\u001b[0m\n\u001b[0;32m      8\u001b[0m \u001b[1;33m\u001b[0m\u001b[0m\n\u001b[0;32m      9\u001b[0m \u001b[0mr\u001b[0m \u001b[1;33m=\u001b[0m \u001b[0mrestriction1\u001b[0m\u001b[1;33m(\u001b[0m\u001b[1;33m)\u001b[0m\u001b[1;33m\u001b[0m\u001b[0m\n\u001b[1;32m---> 10\u001b[1;33m \u001b[1;32mprint\u001b[0m \u001b[0mlist\u001b[0m\u001b[1;33m(\u001b[0m\u001b[0mr\u001b[0m\u001b[1;33m)\u001b[0m\u001b[1;33m\u001b[0m\u001b[0m\n\u001b[0m",
      "\u001b[1;32m<ipython-input-18-f90a94475a73>\u001b[0m in \u001b[0;36mrestriction1\u001b[1;34m()\u001b[0m\n\u001b[0;32m      2\u001b[0m     \u001b[1;32myield\u001b[0m \u001b[1;36m1\u001b[0m\u001b[1;33m\u001b[0m\u001b[0m\n\u001b[0;32m      3\u001b[0m     \u001b[1;32mtry\u001b[0m\u001b[1;33m:\u001b[0m\u001b[1;33m\u001b[0m\u001b[0m\n\u001b[1;32m----> 4\u001b[1;33m         \u001b[1;32myield\u001b[0m \u001b[1;36m1\u001b[0m\u001b[1;33m/\u001b[0m\u001b[1;36m0\u001b[0m\u001b[1;33m\u001b[0m\u001b[0m\n\u001b[0m\u001b[0;32m      5\u001b[0m     \u001b[1;32mfinally\u001b[0m\u001b[1;33m:\u001b[0m\u001b[1;33m\u001b[0m\u001b[0m\n\u001b[0;32m      6\u001b[0m         \u001b[1;32mprint\u001b[0m \u001b[1;34m\"Leñe!\"\u001b[0m\u001b[1;33m\u001b[0m\u001b[0m\n",
      "\u001b[1;31mZeroDivisionError\u001b[0m: integer division or modulo by zero"
     ]
    }
   ],
   "source": [
    "def restriction1():\n",
    "    yield 1\n",
    "    try:\n",
    "        yield 1/0\n",
    "    finally:\n",
    "        print \"Leñe!\"\n",
    "        \n",
    "\n",
    "r = restriction1()\n",
    "print list(r)"
   ]
  },
  {
   "cell_type": "code",
   "execution_count": 19,
   "metadata": {
    "collapsed": false
   },
   "outputs": [
    {
     "ename": "ValueError",
     "evalue": "generator already executing",
     "output_type": "error",
     "traceback": [
      "\u001b[1;31m---------------------------------------------------------------------------\u001b[0m",
      "\u001b[1;31mValueError\u001b[0m                                Traceback (most recent call last)",
      "\u001b[1;32m<ipython-input-19-f66c00d4040f>\u001b[0m in \u001b[0;36m<module>\u001b[1;34m()\u001b[0m\n\u001b[0;32m      4\u001b[0m \u001b[1;33m\u001b[0m\u001b[0m\n\u001b[0;32m      5\u001b[0m \u001b[0mr2\u001b[0m \u001b[1;33m=\u001b[0m \u001b[0mrestriction2\u001b[0m\u001b[1;33m(\u001b[0m\u001b[1;33m)\u001b[0m\u001b[1;33m\u001b[0m\u001b[0m\n\u001b[1;32m----> 6\u001b[1;33m \u001b[1;32mprint\u001b[0m \u001b[0mlist\u001b[0m\u001b[1;33m(\u001b[0m\u001b[0mr2\u001b[0m\u001b[1;33m)\u001b[0m\u001b[1;33m\u001b[0m\u001b[0m\n\u001b[0m",
      "\u001b[1;32m<ipython-input-19-f66c00d4040f>\u001b[0m in \u001b[0;36mrestriction2\u001b[1;34m()\u001b[0m\n\u001b[0;32m      1\u001b[0m \u001b[1;32mdef\u001b[0m \u001b[0mrestriction2\u001b[0m\u001b[1;33m(\u001b[0m\u001b[1;33m)\u001b[0m\u001b[1;33m:\u001b[0m\u001b[1;33m\u001b[0m\u001b[0m\n\u001b[1;32m----> 2\u001b[1;33m     \u001b[0mi\u001b[0m \u001b[1;33m=\u001b[0m \u001b[0mr2\u001b[0m\u001b[1;33m.\u001b[0m\u001b[0mnext\u001b[0m\u001b[1;33m(\u001b[0m\u001b[1;33m)\u001b[0m\u001b[1;33m\u001b[0m\u001b[0m\n\u001b[0m\u001b[0;32m      3\u001b[0m     \u001b[1;32myield\u001b[0m \u001b[0mi\u001b[0m\u001b[1;33m\u001b[0m\u001b[0m\n\u001b[0;32m      4\u001b[0m \u001b[1;33m\u001b[0m\u001b[0m\n\u001b[0;32m      5\u001b[0m \u001b[0mr2\u001b[0m \u001b[1;33m=\u001b[0m \u001b[0mrestriction2\u001b[0m\u001b[1;33m(\u001b[0m\u001b[1;33m)\u001b[0m\u001b[1;33m\u001b[0m\u001b[0m\n",
      "\u001b[1;31mValueError\u001b[0m: generator already executing"
     ]
    }
   ],
   "source": [
    "def restriction2():\n",
    "    i = r2.next()\n",
    "    yield i\n",
    "\n",
    "r2 = restriction2()\n",
    "print list(r2)"
   ]
  },
  {
   "cell_type": "markdown",
   "metadata": {},
   "source": [
    "Exception propagation\n",
    "------------------------\n",
    "If an exception is raised by, or passes through, a generator function, then the exception is passed on to the caller in the usual way, and subsequent attempts to resume the generator function raise StopIteration, terminating generator's useful life.\n"
   ]
  },
  {
   "cell_type": "code",
   "execution_count": 20,
   "metadata": {
    "collapsed": false
   },
   "outputs": [
    {
     "ename": "StopIteration",
     "evalue": "",
     "output_type": "error",
     "traceback": [
      "\u001b[1;31m---------------------------------------------------------------------------\u001b[0m",
      "\u001b[1;31mStopIteration\u001b[0m                             Traceback (most recent call last)",
      "\u001b[1;32m<ipython-input-20-ad782cf0890f>\u001b[0m in \u001b[0;36m<module>\u001b[1;34m()\u001b[0m\n\u001b[0;32m     15\u001b[0m \u001b[1;33m\u001b[0m\u001b[0m\n\u001b[0;32m     16\u001b[0m \u001b[1;31m# generator exhausted StopIteration\u001b[0m\u001b[1;33m\u001b[0m\u001b[1;33m\u001b[0m\u001b[0m\n\u001b[1;32m---> 17\u001b[1;33m \u001b[0mg\u001b[0m\u001b[1;33m.\u001b[0m\u001b[0mnext\u001b[0m\u001b[1;33m(\u001b[0m\u001b[1;33m)\u001b[0m\u001b[1;33m\u001b[0m\u001b[0m\n\u001b[0m\u001b[0;32m     18\u001b[0m \u001b[1;33m\u001b[0m\u001b[0m\n\u001b[0;32m     19\u001b[0m \u001b[1;33m\u001b[0m\u001b[0m\n",
      "\u001b[1;31mStopIteration\u001b[0m: "
     ]
    }
   ],
   "source": [
    "def zero_div():\n",
    "    return 1/0\n",
    "\n",
    "def gen_numbers():\n",
    "    yield 1\n",
    "    yield zero_div()\n",
    "    yield 3\n",
    "\n",
    "g = gen_numbers()\n",
    "g.next()\n",
    "try:\n",
    "    g.next()\n",
    "except ZeroDivisionError:\n",
    "    pass\n",
    "\n",
    "# generator exhausted StopIteration\n",
    "g.next()\n",
    "\n",
    "    "
   ]
  },
  {
   "cell_type": "code",
   "execution_count": 18,
   "metadata": {
    "collapsed": true
   },
   "outputs": [],
   "source": [
    "def odd_numbers():\n",
    "    \"\"\" Print an infinite sequence of odd numbers \"\"\"\n",
    "    last = 0\n",
    "    while 1:\n",
    "        if last % 2:\n",
    "            yield last\n",
    "        last += 1 "
   ]
  },
  {
   "cell_type": "code",
   "execution_count": 21,
   "metadata": {
    "collapsed": false
   },
   "outputs": [
    {
     "name": "stdout",
     "output_type": "stream",
     "text": [
      "0000000000\n",
      "0000000001\n",
      "0000000002\n",
      "0000000003\n",
      "0000000004\n",
      "0000000005\n",
      "0000000006\n",
      "0000000007\n",
      "0000000008\n",
      "0000000009\n",
      "000000000a\n",
      "000000000b\n",
      "000000000c\n",
      "000000000d\n",
      "000000000e\n",
      "000000000f\n",
      "0000000010\n",
      "0000000011\n",
      "...\n",
      "0000000000\n",
      "0000000001\n",
      "0000000002\n",
      "0000000003\n",
      "0000000004\n",
      "0000000005\n",
      "0000000006\n",
      "0000000007\n",
      "0000000008\n",
      "0000000009\n",
      "000000000a\n",
      "000000000b\n",
      "000000000c\n",
      "000000000d\n",
      "000000000e\n",
      "000000000f\n",
      "0000000010\n",
      "0000000011\n",
      "...\n"
     ]
    }
   ],
   "source": [
    "def print_hexas(generator):\n",
    "    for i in xrange(18):\n",
    "        print generator.next()\n",
    "    print \"...\"\n",
    "\n",
    "def hexa():\n",
    "    i = 0\n",
    "    while 1:\n",
    "        yield \"{:010x}\".format(i)\n",
    "        i += 1\n",
    "\n",
    "h =  hexa()\n",
    "\n",
    "print_hexas(h)\n",
    "\n",
    "import itertools\n",
    "\n",
    "def hexa():\n",
    "    for i in itertools.count():\n",
    "        yield \"{:010x}\".format(i)\n",
    "\n",
    "h = (\"{:010x}\".format(i) for i in itertools.count())\n",
    "print_hexas(h)\n"
   ]
  },
  {
   "cell_type": "code",
   "execution_count": 20,
   "metadata": {
    "collapsed": true
   },
   "outputs": [],
   "source": [
    "import time\n",
    "from functools import wraps\n",
    "\n",
    "def time_log(func):\n",
    "    @wraps(func)\n",
    "    def wrapper(*args, **kw):\n",
    "        start = time.time()\n",
    "        func(*args, **kw)\n",
    "        print \"TIME: \", time.time() - start\n",
    "    return wrapper\n",
    "    "
   ]
  },
  {
   "cell_type": "markdown",
   "metadata": {},
   "source": [
    "## PEP 289 : Genetaror expresions\n",
    "\n",
    "The idea:\n",
    "----------\n",
    "\n",
    "Generator expressions as a high performance, memory efficient generalization of list comprehension and generators\n"
   ]
  },
  {
   "cell_type": "code",
   "execution_count": 21,
   "metadata": {
    "collapsed": false
   },
   "outputs": [
    {
     "name": "stdout",
     "output_type": "stream",
     "text": [
      "SUM:  285\n"
     ]
    }
   ],
   "source": [
    "print \"SUM: \", sum([x*x for x in range(10)])"
   ]
  },
  {
   "cell_type": "markdown",
   "metadata": {},
   "source": [
    "Build a full list of squares in memory, iterate over those values, and, when the reference is no longer needed, delete the list."
   ]
  },
  {
   "cell_type": "code",
   "execution_count": 22,
   "metadata": {
    "collapsed": false
   },
   "outputs": [
    {
     "name": "stdout",
     "output_type": "stream",
     "text": [
      "SUM:  285\n"
     ]
    }
   ],
   "source": [
    "print \"SUM: \", sum(x*x for x in range(10))"
   ]
  },
  {
   "cell_type": "code",
   "execution_count": 23,
   "metadata": {
    "collapsed": false
   },
   "outputs": [
    {
     "name": "stdout",
     "output_type": "stream",
     "text": [
      "TIME:  32.2357950211\n"
     ]
    }
   ],
   "source": [
    "@time_log\n",
    "def summation():\n",
    "    return sum([x*x for x in range(100000000)])\n",
    "\n",
    "summation()"
   ]
  },
  {
   "cell_type": "code",
   "execution_count": 24,
   "metadata": {
    "collapsed": false
   },
   "outputs": [
    {
     "ename": "NameError",
     "evalue": "name 'time_log' is not defined",
     "output_type": "error",
     "traceback": [
      "\u001b[1;31m---------------------------------------------------------------------------\u001b[0m",
      "\u001b[1;31mNameError\u001b[0m                                 Traceback (most recent call last)",
      "\u001b[1;32m<ipython-input-24-5439cdd07a8f>\u001b[0m in \u001b[0;36m<module>\u001b[1;34m()\u001b[0m\n\u001b[1;32m----> 1\u001b[1;33m \u001b[1;33m@\u001b[0m\u001b[0mtime_log\u001b[0m\u001b[1;33m\u001b[0m\u001b[0m\n\u001b[0m\u001b[0;32m      2\u001b[0m \u001b[1;32mdef\u001b[0m \u001b[0msummation_gen\u001b[0m\u001b[1;33m(\u001b[0m\u001b[1;33m)\u001b[0m\u001b[1;33m:\u001b[0m\u001b[1;33m\u001b[0m\u001b[0m\n\u001b[0;32m      3\u001b[0m     \u001b[1;32mreturn\u001b[0m \u001b[0msum\u001b[0m\u001b[1;33m(\u001b[0m\u001b[0mx\u001b[0m\u001b[1;33m*\u001b[0m\u001b[0mx\u001b[0m \u001b[1;32mfor\u001b[0m \u001b[0mx\u001b[0m \u001b[1;32min\u001b[0m \u001b[0mrange\u001b[0m\u001b[1;33m(\u001b[0m\u001b[1;36m100000000\u001b[0m\u001b[1;33m)\u001b[0m\u001b[1;33m)\u001b[0m\u001b[1;33m\u001b[0m\u001b[0m\n\u001b[0;32m      4\u001b[0m \u001b[1;33m\u001b[0m\u001b[0m\n\u001b[0;32m      5\u001b[0m \u001b[0msummation_gen\u001b[0m\u001b[1;33m(\u001b[0m\u001b[1;33m)\u001b[0m\u001b[1;33m\u001b[0m\u001b[0m\n",
      "\u001b[1;31mNameError\u001b[0m: name 'time_log' is not defined"
     ]
    }
   ],
   "source": [
    "@time_log\n",
    "def summation_gen():\n",
    "    return sum(x*x for x in range(100000000))\n",
    "\n",
    "summation_gen()"
   ]
  },
  {
   "cell_type": "code",
   "execution_count": 25,
   "metadata": {
    "collapsed": false
   },
   "outputs": [
    {
     "name": "stdout",
     "output_type": "stream",
     "text": [
      "  2           0 LOAD_GLOBAL              0 (sum)\n",
      "              3 BUILD_LIST               0\n",
      "              6 LOAD_GLOBAL              1 (range)\n",
      "              9 LOAD_CONST               1 (100000000)\n",
      "             12 CALL_FUNCTION            1\n",
      "             15 GET_ITER            \n",
      "        >>   16 FOR_ITER                16 (to 35)\n",
      "             19 STORE_FAST               0 (x)\n",
      "             22 LOAD_FAST                0 (x)\n",
      "             25 LOAD_FAST                0 (x)\n",
      "             28 BINARY_MULTIPLY     \n",
      "             29 LIST_APPEND              2\n",
      "             32 JUMP_ABSOLUTE           16\n",
      "        >>   35 CALL_FUNCTION            1\n",
      "             38 RETURN_VALUE        \n"
     ]
    }
   ],
   "source": [
    "import dis\n",
    "dis.dis(lambda: sum([x*x for x in range(100000000)]))"
   ]
  },
  {
   "cell_type": "code",
   "execution_count": 26,
   "metadata": {
    "collapsed": false
   },
   "outputs": [
    {
     "name": "stdout",
     "output_type": "stream",
     "text": [
      "  2           0 LOAD_GLOBAL              0 (sum)\n",
      "              3 LOAD_CONST               1 (<code object <genexpr> at 0x7f7f792d8930, file \"<ipython-input-26-3f3c232968ae>\", line 2>)\n",
      "              6 MAKE_FUNCTION            0\n",
      "              9 LOAD_GLOBAL              1 (range)\n",
      "             12 LOAD_CONST               2 (100000000)\n",
      "             15 CALL_FUNCTION            1\n",
      "             18 GET_ITER            \n",
      "             19 CALL_FUNCTION            1\n",
      "             22 CALL_FUNCTION            1\n",
      "             25 RETURN_VALUE        \n"
     ]
    }
   ],
   "source": [
    "import dis\n",
    "dis.dis(lambda: sum(x*x for x in range(100000000)))"
   ]
  },
  {
   "cell_type": "code",
   "execution_count": 27,
   "metadata": {
    "collapsed": false
   },
   "outputs": [],
   "source": [
    "#%load_ext memory_profiler\n",
    "#%load_ext line_profiler"
   ]
  },
  {
   "cell_type": "code",
   "execution_count": 28,
   "metadata": {
    "collapsed": false
   },
   "outputs": [],
   "source": [
    "#%mprun -f summation_gen summation_gen()"
   ]
  },
  {
   "cell_type": "code",
   "execution_count": 25,
   "metadata": {
    "collapsed": false
   },
   "outputs": [
    {
     "name": "stdout",
     "output_type": "stream",
     "text": [
      "Total lines:  964\n",
      "Longest (in time): \n",
      "{'diff': datetime.timedelta(0, 6, 963000),\n",
      " 'end': datetime.datetime(1900, 1, 1, 0, 10, 13, 566000),\n",
      " 'line': 74,\n",
      " 'speech': ['No entregar\\xe9 mi adorno preferido.'],\n",
      " 'start': datetime.datetime(1900, 1, 1, 0, 10, 6, 603000)}\n",
      "Father:  22\n",
      "5 Most common phrases [('Bien.', 4), ('-Te amo.', 2), ('Debe permitir que hable.', 2), ('\\xa1No se muevan!', 2), ('\\xa1Ap\\xfantala a la cubierta!', 2)]\n",
      "10 Most common words [('de', 150), ('que', 116), ('la', 110), ('a', 81), ('el', 72), ('No', 70), ('no', 51), ('tu', 47), ('un', 47), ('en', 45), ('lo', 39), ('te', 36), ('para', 32), ('y', 32), ('es', 31)]\n"
     ]
    }
   ],
   "source": [
    "import zipfile\n",
    "import re\n",
    "import itertools\n",
    "import datetime\n",
    "import collections\n",
    "import pprint\n",
    "\n",
    "def gen_zip_open(filename):\n",
    "    subs_zip = zipfile.ZipFile(filename)\n",
    "    for zip_name in subs_zip.namelist():\n",
    "        yield subs_zip.open(zip_name)\n",
    "\n",
    "def gen_reader(sources):\n",
    "    for source in sources:\n",
    "        for item in source:\n",
    "            yield item\n",
    "\n",
    "def gen_grouper_v1(source):\n",
    "    \"\"\" Makes 'groups_num' groups fom iterable \"\"\"\n",
    "    group = []\n",
    "    speech = []\n",
    "    count = 0\n",
    "    for line in source:\n",
    "        if line in ('\\n', '\\r\\n'):\n",
    "            group.append(speech)\n",
    "            yield group\n",
    "            count = 0\n",
    "            group = []\n",
    "            speech = []\n",
    "            continue\n",
    "        elif count == 0 or count == 1:\n",
    "            group.append(line.strip())\n",
    "        else:\n",
    "            speech.append(line.strip())\n",
    "        count += 1\n",
    "\n",
    "def gen_grouper(source):\n",
    "    \"\"\" Makes 'groups_num' groups fom iterable \"\"\"\n",
    "    while 1:\n",
    "        pack = []\n",
    "        speech = []\n",
    "        pack.append(source.next().strip())\n",
    "        pack.append(source.next().strip())\n",
    "        for line in source:\n",
    "            if line in ('\\n', '\\r\\n'):\n",
    "                pack.append(speech)\n",
    "                yield pack\n",
    "                break\n",
    "            speech.append(line.strip())\n",
    "\n",
    "            \n",
    "def gen_time_extract(time_string):\n",
    "    to_datetime = lambda t: datetime.datetime.strptime(t.strip(), \"%H:%M:%S,%f\") \n",
    "    start_end = (to_datetime(time) for time in time_string.split(\"-->\"))\n",
    "    start = start_end.next()\n",
    "    yield start\n",
    "    end = start_end.next()\n",
    "    yield end\n",
    "    yield end - start\n",
    "    \n",
    "def gen_subs_mapper(lines):\n",
    "    \"\"\"\n",
    "    1\n",
    "    00:02:28,546 --> 00:02:31,344\n",
    "    Estación comando, habla ST-321.\n",
    "\n",
    "    2\n",
    "    00:02:31,448 --> 00:02:32,847\n",
    "    Código de aprobación azul.\n",
    "    \"\"\"\n",
    "    for line, time, speech in lines:\n",
    "        tt = gen_time_extract(time)\n",
    "        yield {\n",
    "            \"line\": int(line),\n",
    "            \"start\": next(tt),\n",
    "            \"end\": next(tt),\n",
    "            \"diff\": next(tt),\n",
    "            \"speech\": speech\n",
    "        }\n",
    "\n",
    "def stats(dicts):\n",
    "    total = 0\n",
    "    father = 0\n",
    "    biggest_string = None\n",
    "    longest = None\n",
    "    phrases = collections.Counter()\n",
    "    words = collections.Counter()\n",
    "    for dic in dicts:\n",
    "        phrases.update(dic[\"speech\"])\n",
    "        words.update(itertools.chain.from_iterable(line.split() for line in dic[\"speech\"]))\n",
    "        father += sum(1 for papa in gen_grep(\"padre\", dic[\"speech\"]))\n",
    "        total += 1\n",
    "        longest = dic if longest is None or longest[\"diff\"] < dic[\"diff\"] else longest\n",
    "    return { \"total\": total, \"father\": father, \"longest\": longest, \"phrases\": phrases, \"words\": words }\n",
    "        \n",
    "def gen_grep(pattern, lines):\n",
    "    compiled = re.compile(pattern)\n",
    "    for line in lines:\n",
    "        if compiled.search(line): yield line\n",
    "    \n",
    "        \n",
    "subs_filename = './return_of_the_jedi.zip'\n",
    "#\n",
    "subs_open = gen_zip_open(subs_filename)\n",
    "#\n",
    "lines_stream = gen_reader(subs_open)\n",
    "#\n",
    "groups = gen_grouper(lines_stream)\n",
    "#\n",
    "speech_dicts = gen_subs_mapper(groups)\n",
    "#\n",
    "results = stats(speech_dicts)\n",
    "\n",
    "print \"Total lines: \", results[\"total\"]\n",
    "print \"Longest (in time): \"\n",
    "pprint.pprint(results[\"longest\"])\n",
    "print \"Father: \", results[\"father\"]\n",
    "print \"5 Most common phrases\", results[\"phrases\"].most_common(5)\n",
    "print \"10 Most common words\", results[\"words\"].most_common(15)\n"
   ]
  },
  {
   "cell_type": "markdown",
   "metadata": {},
   "source": [
    "## PEP 342 : Coroutines via enhaced generators"
   ]
  },
  {
   "cell_type": "markdown",
   "metadata": {
    "collapsed": true
   },
   "source": [
    "The idea:\n",
    "----------\n",
    "Well, now *yield* can accept values...\n",
    "\n",
    "...coroutines topic gives us for a complete talk... **¿?¿?**?"
   ]
  },
  {
   "cell_type": "code",
   "execution_count": null,
   "metadata": {
    "collapsed": true
   },
   "outputs": [],
   "source": []
  }
 ],
 "metadata": {
  "kernelspec": {
   "display_name": "Python 2",
   "language": "python",
   "name": "python2"
  },
  "language_info": {
   "codemirror_mode": {
    "name": "ipython",
    "version": 2
   },
   "file_extension": ".py",
   "mimetype": "text/x-python",
   "name": "python",
   "nbconvert_exporter": "python",
   "pygments_lexer": "ipython2",
   "version": "2.7.9"
  }
 },
 "nbformat": 4,
 "nbformat_minor": 0
}
